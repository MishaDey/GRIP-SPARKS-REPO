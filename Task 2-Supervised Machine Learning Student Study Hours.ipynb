{
 "cells": [
  {
   "cell_type": "code",
   "execution_count": 1,
   "metadata": {},
   "outputs": [],
   "source": [
    "import numpy as np\n",
    "import pandas as pd\n",
    "import matplotlib.pyplot as plt\n",
    "from sklearn.model_selection import train_test_split\n",
    "plt.style.use(\"dark_background\")\n",
    "from sklearn.linear_model import LinearRegression\n",
    "from sklearn import metrics"
   ]
  },
  {
   "cell_type": "code",
   "execution_count": 2,
   "metadata": {},
   "outputs": [],
   "source": [
    "# The given data set has only 26 sets of x and y values sowe need more x and y values\n",
    "# so I am using the the dataset : https://drive.google.com/drive/folders/1mNPvWhUMjpP5zxMV0nGzn1n3SX4c5b-C?usp=sharing\n",
    "def get_data():\n",
    "    x_dframe=pd.read_csv(\"/home/mishadey/Desktop/GRIP/CODES/TASK 1 DATA/linearX.csv\")\n",
    "    y_dframe=pd.read_csv(\"/home/mishadey/Desktop/GRIP/CODES/TASK 1 DATA/linearY.csv\")\n",
    "    y_dframe*=100 \n",
    "    xy_dframe=pd.concat([x_dframe,y_dframe],axis=1)\n",
    "    xy_dframe=xy_dframe.rename(columns={xy_dframe.columns[0]:'HOURS',xy_dframe.columns[1]:\"SCORES\"})\n",
    "    return xy_dframe"
   ]
  },
  {
   "cell_type": "code",
   "execution_count": 3,
   "metadata": {},
   "outputs": [
    {
     "data": {
      "text/html": [
       "<div>\n",
       "<style scoped>\n",
       "    .dataframe tbody tr th:only-of-type {\n",
       "        vertical-align: middle;\n",
       "    }\n",
       "\n",
       "    .dataframe tbody tr th {\n",
       "        vertical-align: top;\n",
       "    }\n",
       "\n",
       "    .dataframe thead th {\n",
       "        text-align: right;\n",
       "    }\n",
       "</style>\n",
       "<table border=\"1\" class=\"dataframe\">\n",
       "  <thead>\n",
       "    <tr style=\"text-align: right;\">\n",
       "      <th></th>\n",
       "      <th>HOURS</th>\n",
       "      <th>SCORES</th>\n",
       "    </tr>\n",
       "  </thead>\n",
       "  <tbody>\n",
       "    <tr>\n",
       "      <th>0</th>\n",
       "      <td>8.0</td>\n",
       "      <td>99.007</td>\n",
       "    </tr>\n",
       "    <tr>\n",
       "      <th>1</th>\n",
       "      <td>9.1</td>\n",
       "      <td>99.769</td>\n",
       "    </tr>\n",
       "    <tr>\n",
       "      <th>2</th>\n",
       "      <td>8.4</td>\n",
       "      <td>99.386</td>\n",
       "    </tr>\n",
       "    <tr>\n",
       "      <th>3</th>\n",
       "      <td>6.9</td>\n",
       "      <td>99.508</td>\n",
       "    </tr>\n",
       "    <tr>\n",
       "      <th>4</th>\n",
       "      <td>7.7</td>\n",
       "      <td>99.630</td>\n",
       "    </tr>\n",
       "    <tr>\n",
       "      <th>5</th>\n",
       "      <td>15.6</td>\n",
       "      <td>100.320</td>\n",
       "    </tr>\n",
       "    <tr>\n",
       "      <th>6</th>\n",
       "      <td>7.3</td>\n",
       "      <td>99.768</td>\n",
       "    </tr>\n",
       "    <tr>\n",
       "      <th>7</th>\n",
       "      <td>7.0</td>\n",
       "      <td>99.584</td>\n",
       "    </tr>\n",
       "    <tr>\n",
       "      <th>8</th>\n",
       "      <td>7.2</td>\n",
       "      <td>99.609</td>\n",
       "    </tr>\n",
       "    <tr>\n",
       "      <th>9</th>\n",
       "      <td>10.1</td>\n",
       "      <td>99.774</td>\n",
       "    </tr>\n",
       "  </tbody>\n",
       "</table>\n",
       "</div>"
      ],
      "text/plain": [
       "   HOURS   SCORES\n",
       "0    8.0   99.007\n",
       "1    9.1   99.769\n",
       "2    8.4   99.386\n",
       "3    6.9   99.508\n",
       "4    7.7   99.630\n",
       "5   15.6  100.320\n",
       "6    7.3   99.768\n",
       "7    7.0   99.584\n",
       "8    7.2   99.609\n",
       "9   10.1   99.774"
      ]
     },
     "execution_count": 3,
     "metadata": {},
     "output_type": "execute_result"
    }
   ],
   "source": [
    "xy_dframe=get_data()\n",
    "xy_dframe.head(10)"
   ]
  },
  {
   "cell_type": "code",
   "execution_count": 4,
   "metadata": {},
   "outputs": [],
   "source": [
    "def PlotHoursVersusScores(xy_dframe):\n",
    "    xy_dframe.plot(x=xy_dframe.columns[0],y=xy_dframe.columns[1],style=\"o\")\n",
    "    plt.title(\"HOURS V/S SCORES\")\n",
    "    plt.xlabel(\"HOURS\")\n",
    "    plt.ylabel(\"SCORES\")\n",
    "    plt.show()"
   ]
  },
  {
   "cell_type": "code",
   "execution_count": 5,
   "metadata": {},
   "outputs": [
    {
     "data": {
      "image/png": "[encoded data removed]",
      "text/plain": [
       "<Figure size 432x288 with 1 Axes>"
      ]
     },
     "metadata": {},
     "output_type": "display_data"
    }
   ],
   "source": [
    "PlotHoursVersusScores(xy_dframe)"
   ]
  },
  {
   "cell_type": "code",
   "execution_count": 6,
   "metadata": {},
   "outputs": [],
   "source": [
    "def pre_process_data(xy_dframe):\n",
    "    #removing the null values and removing the duplicates\n",
    "    xy_dframe=xy_dframe.dropna().drop_duplicates()\n",
    "    xy_dframe=xy_dframe.values\n",
    "    #train-test split to prevent the over and underfitting of model\n",
    "    x_train,x_test,y_train,y_test = train_test_split(np.array(xy_dframe[:,0]),np.array(xy_dframe[:,1]),test_size=0.2,shuffle=False)\n",
    "    x_train=np.reshape(x_train,(x_train.shape[0],-1))\n",
    "    x_test=np.reshape(x_test,(x_test.shape[0],-1))\n",
    "    y_train=np.reshape(y_train,(y_train.shape[0],-1))\n",
    "    y_test=np.reshape(y_test,(y_test.shape[0],-1))\n",
    "    return x_train,x_test,y_train,y_test"
   ]
  },
  {
   "cell_type": "code",
   "execution_count": 7,
   "metadata": {},
   "outputs": [
    {
     "name": "stdout",
     "output_type": "stream",
     "text": [
      "(79, 1) (20, 1) (79, 1) (20, 1)\n"
     ]
    }
   ],
   "source": [
    "x_train,x_test,y_train,y_test=pre_process_data(xy_dframe)\n",
    "print(x_train.shape,x_test.shape,y_train.shape,y_test.shape)"
   ]
  },
  {
   "cell_type": "code",
   "execution_count": 8,
   "metadata": {},
   "outputs": [],
   "source": [
    "def Linear_Regression_Model_Train(x_train,y_train):\n",
    "    model=LinearRegression()\n",
    "    model.fit(x_train,y_train)\n",
    "    return model"
   ]
  },
  {
   "cell_type": "code",
   "execution_count": 9,
   "metadata": {},
   "outputs": [],
   "source": [
    "model=Linear_Regression_Model_Train(x_train,y_train)"
   ]
  },
  {
   "cell_type": "code",
   "execution_count": 10,
   "metadata": {},
   "outputs": [],
   "source": [
    "def Linear_Regression_Model_Test(x_test):\n",
    "    y_pred=model.predict(x_test)\n",
    "    predicted_data = np.concatenate((x_test,y_pred),axis=1)\n",
    "    return y_pred,predicted_data"
   ]
  },
  {
   "cell_type": "code",
   "execution_count": 11,
   "metadata": {},
   "outputs": [
    {
     "name": "stdout",
     "output_type": "stream",
     "text": [
      "\n",
      "THE PREDICTED DATA IS:\n",
      "\n"
     ]
    },
    {
     "data": {
      "text/html": [
       "<div>\n",
       "<style scoped>\n",
       "    .dataframe tbody tr th:only-of-type {\n",
       "        vertical-align: middle;\n",
       "    }\n",
       "\n",
       "    .dataframe tbody tr th {\n",
       "        vertical-align: top;\n",
       "    }\n",
       "\n",
       "    .dataframe thead th {\n",
       "        text-align: right;\n",
       "    }\n",
       "</style>\n",
       "<table border=\"1\" class=\"dataframe\">\n",
       "  <thead>\n",
       "    <tr style=\"text-align: right;\">\n",
       "      <th></th>\n",
       "      <th>HOURS</th>\n",
       "      <th>PREDICTED SCORES</th>\n",
       "    </tr>\n",
       "  </thead>\n",
       "  <tbody>\n",
       "    <tr>\n",
       "      <th>0</th>\n",
       "      <td>6.2</td>\n",
       "      <td>99.507174</td>\n",
       "    </tr>\n",
       "    <tr>\n",
       "      <th>1</th>\n",
       "      <td>6.5</td>\n",
       "      <td>99.532179</td>\n",
       "    </tr>\n",
       "    <tr>\n",
       "      <th>2</th>\n",
       "      <td>7.7</td>\n",
       "      <td>99.632200</td>\n",
       "    </tr>\n",
       "    <tr>\n",
       "      <th>3</th>\n",
       "      <td>7.2</td>\n",
       "      <td>99.590524</td>\n",
       "    </tr>\n",
       "    <tr>\n",
       "      <th>4</th>\n",
       "      <td>9.3</td>\n",
       "      <td>99.765561</td>\n",
       "    </tr>\n",
       "    <tr>\n",
       "      <th>5</th>\n",
       "      <td>8.5</td>\n",
       "      <td>99.698880</td>\n",
       "    </tr>\n",
       "    <tr>\n",
       "      <th>6</th>\n",
       "      <td>7.7</td>\n",
       "      <td>99.632200</td>\n",
       "    </tr>\n",
       "    <tr>\n",
       "      <th>7</th>\n",
       "      <td>6.8</td>\n",
       "      <td>99.557184</td>\n",
       "    </tr>\n",
       "    <tr>\n",
       "      <th>8</th>\n",
       "      <td>7.8</td>\n",
       "      <td>99.640535</td>\n",
       "    </tr>\n",
       "    <tr>\n",
       "      <th>9</th>\n",
       "      <td>8.7</td>\n",
       "      <td>99.715550</td>\n",
       "    </tr>\n",
       "  </tbody>\n",
       "</table>\n",
       "</div>"
      ],
      "text/plain": [
       "   HOURS  PREDICTED SCORES\n",
       "0    6.2         99.507174\n",
       "1    6.5         99.532179\n",
       "2    7.7         99.632200\n",
       "3    7.2         99.590524\n",
       "4    9.3         99.765561\n",
       "5    8.5         99.698880\n",
       "6    7.7         99.632200\n",
       "7    6.8         99.557184\n",
       "8    7.8         99.640535\n",
       "9    8.7         99.715550"
      ]
     },
     "execution_count": 11,
     "metadata": {},
     "output_type": "execute_result"
    }
   ],
   "source": [
    "y_pred,predicted_data = Linear_Regression_Model_Test(x_test)\n",
    "print(\"\\nTHE PREDICTED DATA IS:\\n\")\n",
    "xy_dframe=pd.DataFrame(predicted_data)\n",
    "xy_dframe=xy_dframe.rename(columns={xy_dframe.columns[0]:'HOURS',xy_dframe.columns[1]:'PREDICTED SCORES'})\n",
    "xy_dframe.head(10)"
   ]
  },
  {
   "cell_type": "code",
   "execution_count": 12,
   "metadata": {},
   "outputs": [
    {
     "data": {
      "image/png": "[encoded data removed]",
      "text/plain": [
       "<Figure size 432x288 with 1 Axes>"
      ]
     },
     "metadata": {},
     "output_type": "display_data"
    }
   ],
   "source": [
    "#ploting the predicted data\n",
    "PlotHoursVersusScores(xy_dframe)"
   ]
  },
  {
   "cell_type": "code",
   "execution_count": 13,
   "metadata": {},
   "outputs": [
    {
     "name": "stdout",
     "output_type": "stream",
     "text": [
      "The Prdicted Value :  99.76139297195249\n"
     ]
    }
   ],
   "source": [
    "#Testing for the required input data : 9.25 hrs\n",
    "Pred_x_val=model.predict(np.array(9.25).reshape(1,1))\n",
    "print(\"The Prdicted Value : \",Pred_x_val[0,0]) # we are using a different dataset"
   ]
  },
  {
   "cell_type": "code",
   "execution_count": 14,
   "metadata": {},
   "outputs": [],
   "source": [
    "def EvaluatingMetrics(x_train,x_test,y_train,y_test):\n",
    "    print(\"\\nThe mean absolute error is : \",metrics.mean_absolute_error(y_test.reshape(y_test.shape[0]),y_pred.reshape(y_pred.shape[0])))\n",
    "    #print(\"\\nThe Accuracy of model is : \",metrics.accuracy_score(y_test,y_pred))\n",
    "    print(\"\\n The model bias is :\",model.intercept_)\n",
    "    print(\"\\n The model Coefficient is :\",model.coef_)\n",
    "    print(\"\\n The score Coefficient is :\",model.score(x_train,y_train))"
   ]
  },
  {
   "cell_type": "code",
   "execution_count": 15,
   "metadata": {},
   "outputs": [
    {
     "name": "stdout",
     "output_type": "stream",
     "text": [
      "\n",
      "The mean absolute error is :  0.09762988817964882\n",
      "\n",
      " The model bias is : [98.99040007]\n",
      "\n",
      " The model Coefficient is : [[0.08335058]]\n",
      "\n",
      " The score Coefficient is : 0.4782162484693325\n"
     ]
    }
   ],
   "source": [
    "#Metrics Evaluation\n",
    "EvaluatingMetrics(x_train,x_test,y_train,y_test)"
   ]
  },
  {
   "cell_type": "code",
   "execution_count": null,
   "metadata": {},
   "outputs": [],
   "source": []
  },
  {
   "cell_type": "code",
   "execution_count": null,
   "metadata": {},
   "outputs": [],
   "source": []
  }
 ],
 "metadata": {
  "kernelspec": {
   "display_name": "Python 3",
   "language": "python",
   "name": "python3"
  },
  "language_info": {
   "codemirror_mode": {
    "name": "ipython",
    "version": 3
   },
   "file_extension": ".py",
   "mimetype": "text/x-python",
   "name": "python",
   "nbconvert_exporter": "python",
   "pygments_lexer": "ipython3",
   "version": "3.8.5"
  }
 },
 "nbformat": 4,
 "nbformat_minor": 2
}
