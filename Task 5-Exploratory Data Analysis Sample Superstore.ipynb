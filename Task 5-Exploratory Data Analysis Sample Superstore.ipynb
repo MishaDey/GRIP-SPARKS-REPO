{
 "cells": [
  {
   "cell_type": "markdown",
   "metadata": {},
   "source": [
    "#### Perform ‘Exploratory Data Analysis’ on the provided dataset"
   ]
  },
  {
   "cell_type": "code",
   "execution_count": null,
   "metadata": {},
   "outputs": [],
   "source": [
    "import random\n",
    "import seaborn\n",
    "import plotly as py\n",
    "import numpy as np\n",
    "import pandas as pd\n",
    "import matplotlib.pyplot as plt\n",
    "plt.style.use('dark_background')\n",
    "from plotly.offline import download_plotlyjs,init_notebook_mode,plot,iplot\n",
    "import plotly.graph_objs as go"
   ]
  },
  {
   "cell_type": "code",
   "execution_count": null,
   "metadata": {},
   "outputs": [],
   "source": [
    "def get_data():\n",
    "    data_frame=pd.read_csv(\"/home/mishadey/Desktop/GRIP/CODES/TASK 5 DATA/SampleSuperstore.csv\")\n",
    "    return data_frame"
   ]
  },
  {
   "cell_type": "markdown",
   "metadata": {},
   "source": [
    "#### Exploloring our Dataset"
   ]
  },
  {
   "cell_type": "code",
   "execution_count": null,
   "metadata": {},
   "outputs": [],
   "source": [
    "data_frame=get_data()\n",
    "#Head of Dataset\n",
    "data_frame.head()"
   ]
  },
  {
   "cell_type": "code",
   "execution_count": null,
   "metadata": {},
   "outputs": [],
   "source": [
    "#getting the information about the Dataframe\n",
    "print(\"\\nThe Shape of the Dataset : \",data_frame.shape)\n",
    "print(\"\\nThe No. of entries in the Dataset : \",data_frame.shape[0])\n",
    "print(\"\\nThe No. of features in the Dataset : \",data_frame.shape[1])"
   ]
  },
  {
   "cell_type": "code",
   "execution_count": null,
   "metadata": {},
   "outputs": [],
   "source": [
    "data_frame.info()"
   ]
  },
  {
   "cell_type": "code",
   "execution_count": null,
   "metadata": {},
   "outputs": [],
   "source": [
    "data_frame.dtypes"
   ]
  },
  {
   "cell_type": "code",
   "execution_count": null,
   "metadata": {},
   "outputs": [],
   "source": [
    "data_frame.describe()"
   ]
  },
  {
   "cell_type": "code",
   "execution_count": null,
   "metadata": {},
   "outputs": [],
   "source": [
    "def Features_wise_Description_and_Frequency(data_set):\n",
    "    for feature in data_set.columns:\n",
    "        print(\"\\n\\n STATISTIC FOR FEATURE : \",feature.upper())\n",
    "        print(\"\\nDescription for Feature : \\n\",)\n",
    "        print(data_set[feature].describe())\n",
    "        print(\"\\n\")       "
   ]
  },
  {
   "cell_type": "code",
   "execution_count": null,
   "metadata": {},
   "outputs": [],
   "source": [
    "Features_wise_Description_and_Frequency(data_frame)"
   ]
  },
  {
   "cell_type": "markdown",
   "metadata": {},
   "source": [
    "#### Looking For Redundant/Duplicate and Null entries and Removing them"
   ]
  },
  {
   "cell_type": "code",
   "execution_count": null,
   "metadata": {},
   "outputs": [],
   "source": [
    "def CountAndRemoveDuplicates(data_frame):\n",
    "    #C;ount Using pivot_table() functio\n",
    "    print(\"\\n\\nThe no. of rows having duplicate values : \",duplicates_df.shape[0])\n",
    "    \n",
    "    print(\"\\n\\nThe shape of the data_set before removing the duplicates : \",data_frame.shape)\n",
    "    data_frame = data_frame.drop_duplicates()\n",
    "    print(\"\\n\\nThe shape of the data_set after removing the duplicates : \",data_frame.shape)\n",
    "    return data_frame"
   ]
  },
  {
   "cell_type": "code",
   "execution_count": null,
   "metadata": {},
   "outputs": [],
   "source": [
    "print(\"\\n\\nThe duplicate entries in dataset  :\\n\")\n",
    "duplicates_df = data_frame[data_frame.duplicated()]\n",
    "duplicates_df"
   ]
  },
  {
   "cell_type": "code",
   "execution_count": null,
   "metadata": {},
   "outputs": [],
   "source": [
    "data_frame=CountAndRemoveDuplicates(data_frame)"
   ]
  },
  {
   "cell_type": "code",
   "execution_count": null,
   "metadata": {},
   "outputs": [],
   "source": [
    "def CountAndRemoveNullValues(data_frame):\n",
    "    print(\"\\n\\nThe shape of the data_set before removing the null_values : \",data_frame.shape)\n",
    "    initial=data_frame.shape[0]\n",
    "    data_frame = data_frame.dropna()\n",
    "    print(\"\\n\\nThe no. of rows having Null values :  \",data_frame.shape[0]-initial)\n",
    "    print(data_frame.isnull().sum())\n",
    "    print(\"\\n\\nThe shape of the data_set after removing the null values : \",data_frame.shape)\n",
    "    return data_frame"
   ]
  },
  {
   "cell_type": "code",
   "execution_count": null,
   "metadata": {},
   "outputs": [],
   "source": [
    "data_frame=CountAndRemoveNullValues(data_frame)"
   ]
  },
  {
   "cell_type": "code",
   "execution_count": null,
   "metadata": {},
   "outputs": [],
   "source": []
  },
  {
   "cell_type": "markdown",
   "metadata": {},
   "source": [
    "#### Visualizing the Data : Correlation Matrix / Heat Map"
   ]
  },
  {
   "cell_type": "code",
   "execution_count": null,
   "metadata": {},
   "outputs": [],
   "source": [
    "#plotting the Heatmap\n",
    "def PlotHeatMAp(data_frame):\n",
    "    plt.figure(num=None,figsize=(12,10),dpi=80,facecolor='black',edgecolor='k')\n",
    "    seaborn.heatmap(data_frame.corr(),annot=True)\n",
    "    plt.title(\"\\nCorrelation Matrix of all Numerical the features in SampleSuperstore Dataset : \\n\")\n",
    "    plt.figure(figsize=(10,10))\n",
    "    plt.show()"
   ]
  },
  {
   "cell_type": "code",
   "execution_count": null,
   "metadata": {},
   "outputs": [],
   "source": [
    "PlotHeatMAp(data_frame)"
   ]
  },
  {
   "cell_type": "markdown",
   "metadata": {},
   "source": [
    "#### Visualizing Each Numeric feature against other Numeric Features in the Dataset"
   ]
  },
  {
   "cell_type": "code",
   "execution_count": null,
   "metadata": {},
   "outputs": [],
   "source": [
    "#Getting the new Data Set HAving only numeric(float/integer) datatypes\n",
    "Numeric_data_set=data_frame.select_dtypes(include=['float','int'])\n",
    "print(\"\\nThe Columns/Features with Numeric Data :\\n\")\n",
    "Numeric_data_set"
   ]
  },
  {
   "cell_type": "markdown",
   "metadata": {},
   "source": [
    "#### CHECKING  STATISTICAL VALUES OF THE PROFIT AND VERSUS OTHER FACTORS "
   ]
  },
  {
   "cell_type": "code",
   "execution_count": null,
   "metadata": {},
   "outputs": [],
   "source": [
    "#Segment-wise Sales and Profit\n",
    "segment_sales_and_profit=round(data_frame.groupby(\"Segment\").sum())\n",
    "segment_sales_and_profit.loc[:,['Sales','Profit']]"
   ]
  },
  {
   "cell_type": "code",
   "execution_count": null,
   "metadata": {},
   "outputs": [],
   "source": [
    "#shipment-mode wise Sales and Profit\n",
    "ship_mode_sales_and_profit=round(data_frame.groupby(\"Ship Mode\").sum())\n",
    "ship_mode_sales_and_profit.loc[:,['Sales','Profit']]"
   ]
  },
  {
   "cell_type": "code",
   "execution_count": null,
   "metadata": {},
   "outputs": [],
   "source": [
    "#Country-wise Sales and Profit\n",
    "country_wise_sales_and_profit=round(data_frame.groupby(\"Country\").sum())\n",
    "country_wise_sales_and_profit.loc[:,['Sales','Profit']]"
   ]
  },
  {
   "cell_type": "code",
   "execution_count": null,
   "metadata": {},
   "outputs": [],
   "source": [
    "#City-wise Sales and Profit\n",
    "city_wise_sales_and_profit=round(data_frame.groupby(\"City\").sum())\n",
    "city_wise_sales_and_profit.loc[:,['Sales','Profit']]"
   ]
  },
  {
   "cell_type": "code",
   "execution_count": null,
   "metadata": {},
   "outputs": [],
   "source": [
    "#State-wise Sales and Profit\n",
    "state_wise_sales_and_profit=round(data_frame.groupby(\"State\").sum())\n",
    "state_wise_sales_and_profit.loc[:,['Sales','Profit']]"
   ]
  },
  {
   "cell_type": "code",
   "execution_count": null,
   "metadata": {},
   "outputs": [],
   "source": [
    "#Postal-Code-wise Sales and Profit\n",
    "Postal_wise_sales_and_profit=round(data_frame.groupby(\"Postal Code\").sum())\n",
    "Postal_wise_sales_and_profit.loc[:,['Sales','Profit']]"
   ]
  },
  {
   "cell_type": "code",
   "execution_count": null,
   "metadata": {},
   "outputs": [],
   "source": [
    "#Region-wise Sales and Profit\n",
    "Region_wise_sales_and_profit=round(data_frame.groupby(\"Region\").sum())\n",
    "Region_wise_sales_and_profit.loc[:,['Sales','Profit']]"
   ]
  },
  {
   "cell_type": "code",
   "execution_count": null,
   "metadata": {},
   "outputs": [],
   "source": [
    "#Category-wise Sales and Profit\n",
    "Category_wise_sales_and_profit=round(data_frame.groupby(\"Category\").sum())\n",
    "Category_wise_sales_and_profit.loc[:,['Sales','Profit']]"
   ]
  },
  {
   "cell_type": "code",
   "execution_count": null,
   "metadata": {},
   "outputs": [],
   "source": [
    "#Sub-Category-wise Sales and Profit\n",
    "Sub_Category_wise_sales_and_profit=round(data_frame.groupby(\"Sub-Category\").sum())\n",
    "Sub_Category_wise_sales_and_profit.loc[:,['Sales','Profit']]"
   ]
  },
  {
   "cell_type": "code",
   "execution_count": null,
   "metadata": {},
   "outputs": [],
   "source": [
    "#Discount-wise Sales and Profit\n",
    "Discount_wise_sales_and_profit=round(data_frame.groupby(\"Discount\").sum())\n",
    "Discount_wise_sales_and_profit.loc[:,['Sales','Profit']]"
   ]
  },
  {
   "cell_type": "code",
   "execution_count": null,
   "metadata": {},
   "outputs": [],
   "source": [
    "def Plot_Feature1_Versus_Feature2(data_frame):\n",
    "    # For the Numerical Features\n",
    "    for feature1 in data_frame.columns:\n",
    "        for feature2 in data_frame.columns:\n",
    "            if(feature1!=feature2):\n",
    "                rand_col=random.choice(['red','blue','green','pink','yellow'])\n",
    "                plt.figure(num=None, figsize=(10, 10), dpi=80, facecolor='black', edgecolor='k')\n",
    "                plt.plot(data_frame[feature1].values,data_frame[feature2].values,c=rand_col)\n",
    "                plt.xlabel=feature1\n",
    "                plt.ylabel=feature2\n",
    "                plt.title(\"{} V/S {} \".format(feature1,feature2))\n",
    "                plt.show()"
   ]
  },
  {
   "cell_type": "code",
   "execution_count": null,
   "metadata": {},
   "outputs": [],
   "source": [
    "Plot_Feature1_Versus_Feature2(data_frame)"
   ]
  },
  {
   "cell_type": "code",
   "execution_count": null,
   "metadata": {},
   "outputs": [],
   "source": [
    "def Bar_Plots_For_Features(data_frame):\n",
    "    # For the Numerical Features\n",
    "    for feature in data_frame.columns:\n",
    "        plt.figure(num=None, figsize=(20, 6), dpi=80, facecolor='black', edgecolor='k')\n",
    "        seaborn.countplot(x=feature,data=data_frame,palette='Accent')\n",
    "        plt.xlabel=feature\n",
    "        plt.ylabel=\"Count of {}\".format(feature)\n",
    "        plt.title(\"{} V/S Count of {} \".format(feature,feature))\n",
    "        plt.show()"
   ]
  },
  {
   "cell_type": "code",
   "execution_count": null,
   "metadata": {},
   "outputs": [],
   "source": [
    "Bar_Plots_For_Features(data_frame)"
   ]
  },
  {
   "cell_type": "code",
   "execution_count": null,
   "metadata": {},
   "outputs": [],
   "source": [
    "def Pie_Plots_For_Features(data_frame):\n",
    "    # For the Numerical Features\n",
    "    import matplotlib.pyplot as plt\n",
    "    for feature in data_frame.columns:\n",
    "        if feature not in ['Profit','Sales','Postal Code']:\n",
    "            plt.figure(num=None, figsize=(15,15), dpi=80, facecolor='black', edgecolor='k',)\n",
    "            data_frame[feature].value_counts().plot.pie(autopct='%5f')\n",
    "            plt.title(\"{} Pie Chart\".format(feature))\n",
    "            plt.show()"
   ]
  },
  {
   "cell_type": "code",
   "execution_count": null,
   "metadata": {},
   "outputs": [],
   "source": [
    "Pie_Plots_For_Features(data_frame)"
   ]
  },
  {
   "cell_type": "markdown",
   "metadata": {},
   "source": [
    "#### STATES AND CITIES WITH TOP SALES AND PROFITS"
   ]
  },
  {
   "cell_type": "markdown",
   "metadata": {},
   "source": [
    "##### Top 10 States By Sales"
   ]
  },
  {
   "cell_type": "code",
   "execution_count": null,
   "metadata": {},
   "outputs": [],
   "source": [
    "state_wise_sales_and_profit=state_wise_sales_and_profit.loc[:,['Sales','Profit']]\n",
    "top_10_sales=state_wise_sales_and_profit['Sales'].sort_values(ascending=False).iloc[:10]\n",
    "print(\"\\n\",top_10_sales,\"\\n\\n\")\n",
    "plt.figure(num=None, figsize=(20, 6), dpi=80, facecolor='black', edgecolor='k')\n",
    "top_10_sales.plot(kind='bar',color='blue')\n",
    "plt.xlabel='States'\n",
    "plt.ylabel='Sales per State'\n",
    "plt.title(\"Top 10 States By Sales\")\n",
    "plt.show()"
   ]
  },
  {
   "cell_type": "markdown",
   "metadata": {},
   "source": [
    "##### Top 10 States By Profit"
   ]
  },
  {
   "cell_type": "code",
   "execution_count": null,
   "metadata": {},
   "outputs": [],
   "source": [
    "top_10_profit=state_wise_sales_and_profit['Profit'].sort_values(ascending=False).iloc[:10]\n",
    "print(\"\\n\",top_10_profit,\"\\n\\n\")\n",
    "plt.figure(num=None, figsize=(20, 6), dpi=80, facecolor='black', edgecolor='k')\n",
    "top_10_profit.plot(kind='bar',color='blue')\n",
    "plt.xlabel='States'\n",
    "plt.ylabel='Profits per State'\n",
    "plt.title(\"Top 10 States By Profit\")\n",
    "plt.show()"
   ]
  },
  {
   "cell_type": "markdown",
   "metadata": {},
   "source": [
    "##### Bottom 10 States By Sales"
   ]
  },
  {
   "cell_type": "code",
   "execution_count": null,
   "metadata": {},
   "outputs": [],
   "source": [
    "state_wise_sales_and_profit=state_wise_sales_and_profit.loc[:,['Sales','Profit']]\n",
    "bottom_10_sales=state_wise_sales_and_profit['Sales'].sort_values(ascending=True).iloc[:10]\n",
    "print(\"\\n\",bottom_10_sales,\"\\n\\n\")\n",
    "plt.figure(num=None, figsize=(20, 6), dpi=80, facecolor='black', edgecolor='k')\n",
    "bottom_10_sales.plot(kind='bar',color='red')\n",
    "plt.xlabel='States'\n",
    "plt.ylabel='Sales per State'\n",
    "plt.title(\"Bottom 10 States By Sales\")\n",
    "plt.show()"
   ]
  },
  {
   "cell_type": "markdown",
   "metadata": {},
   "source": [
    "##### Bottom 10  States By Profit"
   ]
  },
  {
   "cell_type": "code",
   "execution_count": null,
   "metadata": {},
   "outputs": [],
   "source": [
    "bottom_10_profit=state_wise_sales_and_profit['Profit'].sort_values(ascending=True).iloc[:10]\n",
    "print(\"\\n\",bottom_10_profit,\"\\n\\n\")\n",
    "plt.figure(num=None, figsize=(20, 6), dpi=80, facecolor='black', edgecolor='k')\n",
    "bottom_10_profit.plot(kind='bar',color='red')\n",
    "plt.xlabel='States'\n",
    "plt.ylabel='Profits per State'\n",
    "plt.title(\"Bottom 10 States By Profit\")\n",
    "plt.show()"
   ]
  },
  {
   "cell_type": "code",
   "execution_count": null,
   "metadata": {},
   "outputs": [],
   "source": []
  },
  {
   "cell_type": "markdown",
   "metadata": {},
   "source": [
    "##### Top 10 Cities By Sales"
   ]
  },
  {
   "cell_type": "code",
   "execution_count": null,
   "metadata": {},
   "outputs": [],
   "source": [
    "city_wise_sales_and_profit=city_wise_sales_and_profit.loc[:,['Sales','Profit']]\n",
    "top_10_sales1=city_wise_sales_and_profit['Sales'].sort_values(ascending=False).iloc[:10]\n",
    "print(\"\\n\",top_10_sales1,\"\\n\\n\")\n",
    "plt.figure(num=None, figsize=(20, 6), dpi=80, facecolor='black', edgecolor='k')\n",
    "top_10_sales1.plot(kind='bar',color='blue')\n",
    "plt.xlabel='Cities'\n",
    "plt.ylabel='Sales per City'\n",
    "plt.title(\"Top 10 Cities By Sales\")\n",
    "plt.show()"
   ]
  },
  {
   "cell_type": "markdown",
   "metadata": {},
   "source": [
    "##### Top 10 Cities By Profit"
   ]
  },
  {
   "cell_type": "code",
   "execution_count": null,
   "metadata": {},
   "outputs": [],
   "source": [
    "top_10_profit1=city_wise_sales_and_profit['Profit'].sort_values(ascending=False).iloc[:10]\n",
    "print(\"\\n\",top_10_profit1,\"\\n\\n\")\n",
    "plt.figure(num=None, figsize=(20, 6), dpi=80, facecolor='black', edgecolor='k')\n",
    "top_10_profit1.plot(kind='bar',color='blue')\n",
    "plt.xlabel='Cities'\n",
    "plt.ylabel='Profits per City'\n",
    "plt.title(\"Top 10 Cities By Profit\")\n",
    "plt.show()"
   ]
  },
  {
   "cell_type": "markdown",
   "metadata": {},
   "source": [
    "##### Bottom 10 Cities By Sales"
   ]
  },
  {
   "cell_type": "code",
   "execution_count": null,
   "metadata": {},
   "outputs": [],
   "source": [
    "city_wise_sales_and_profit=city_wise_sales_and_profit.loc[:,['Sales','Profit']]\n",
    "bottom_10_sales1=city_wise_sales_and_profit['Sales'].sort_values(ascending=True).iloc[:10]\n",
    "print(\"\\n\",bottom_10_sales1,\"\\n\\n\")\n",
    "plt.figure(num=None, figsize=(20, 6), dpi=80, facecolor='black', edgecolor='k')\n",
    "bottom_10_sales1.plot(kind='bar',color='red')\n",
    "plt.xlabel='Cities'\n",
    "plt.ylabel='Sales per City'\n",
    "plt.title(\"Bottom 10 Cities By Sales\")\n",
    "plt.show()"
   ]
  },
  {
   "cell_type": "markdown",
   "metadata": {},
   "source": [
    "##### Bottom 10  Cities By Profit"
   ]
  },
  {
   "cell_type": "code",
   "execution_count": null,
   "metadata": {},
   "outputs": [],
   "source": [
    "bottom_10_profit1=city_wise_sales_and_profit['Profit'].sort_values(ascending=True).iloc[:10]\n",
    "print(\"\\n\",bottom_10_profit1,\"\\n\\n\")\n",
    "plt.figure(num=None, figsize=(20, 6), dpi=80, facecolor='black', edgecolor='k')\n",
    "bottom_10_profit1.plot(kind='bar',color='red')\n",
    "plt.xlabel='Cities'\n",
    "plt.ylabel='Profits per City'\n",
    "plt.title(\"Bottom 10 Cities By Profit\")\n",
    "plt.show()"
   ]
  },
  {
   "cell_type": "markdown",
   "metadata": {},
   "source": [
    "#### CATEGORIES AND SUB-CATEGORIES OF MATERIALS LEADING TO LOSS"
   ]
  },
  {
   "cell_type": "markdown",
   "metadata": {},
   "source": [
    "##### Categories with Corresponding Profit"
   ]
  },
  {
   "cell_type": "code",
   "execution_count": null,
   "metadata": {},
   "outputs": [],
   "source": [
    "Category_wise_sales_and_profit=Category_wise_sales_and_profit.loc[:,['Sales','Profit']]\n",
    "profit_cat=Category_wise_sales_and_profit['Profit'].sort_values(ascending=False).iloc[:10]\n",
    "print(\"\\n\",profit_cat,\"\\n\\n\")\n",
    "plt.figure(num=None, figsize=(20, 6), dpi=80, facecolor='black', edgecolor='k')\n",
    "profit_cat.plot(kind='bar',color='yellow')\n",
    "plt.xlabel='Categories'\n",
    "plt.ylabel='Profits per Category'\n",
    "plt.title(\"Categories with Corresponding Profit\")\n",
    "plt.show()"
   ]
  },
  {
   "cell_type": "markdown",
   "metadata": {},
   "source": [
    "##### Top 5 Sub-Categories with Highest Profit"
   ]
  },
  {
   "cell_type": "code",
   "execution_count": null,
   "metadata": {},
   "outputs": [],
   "source": [
    "Sub_Category_wise_sales_and_profit=Sub_Category_wise_sales_and_profit.loc[:,['Sales','Profit']]\n",
    "top_5_profit_sub_cat=Sub_Category_wise_sales_and_profit['Profit'].sort_values(ascending=False).iloc[:5]\n",
    "print(\"\\n\",top_5_profit_sub_cat,\"\\n\\n\")\n",
    "plt.figure(num=None, figsize=(20, 6), dpi=80, facecolor='black', edgecolor='k')\n",
    "top_5_profit_sub_cat.plot(kind='bar',color='yellow')\n",
    "plt.xlabel='Sub-Categories'\n",
    "plt.ylabel='Profits per Sub-Category'\n",
    "plt.title(\"Top 5 Sub-Categories with Highest Profit\")\n",
    "plt.show()"
   ]
  },
  {
   "cell_type": "markdown",
   "metadata": {},
   "source": [
    "##### Bottom 5 Sub-Categories with Least Profit"
   ]
  },
  {
   "cell_type": "code",
   "execution_count": null,
   "metadata": {},
   "outputs": [],
   "source": [
    "Sub_Category_wise_sales_and_profit.loc[:,['Sales','Profit']]\n",
    "bottom_5_profit_sub_cat=Sub_Category_wise_sales_and_profit['Profit'].sort_values(ascending=True).iloc[:5]\n",
    "print(\"\\n\",bottom_5_profit_sub_cat,\"\\n\\n\")\n",
    "plt.figure(num=None, figsize=(20, 6), dpi=80, facecolor='black', edgecolor='k')\n",
    "bottom_5_profit_sub_cat.plot(kind='bar',color='red')\n",
    "plt.xlabel='Sub-Categories'\n",
    "plt.ylabel='Profits per Sub-Category'\n",
    "plt.title(\"Top 5 Sub-Categories with Highest Profit\")\n",
    "plt.show()"
   ]
  },
  {
   "cell_type": "markdown",
   "metadata": {},
   "source": [
    "### VISUALIZATION OF MAP OF U.S.A. WITH RESPECT TO PROFIT AND SALES"
   ]
  },
  {
   "cell_type": "code",
   "execution_count": null,
   "metadata": {},
   "outputs": [],
   "source": [
    "# Assigning State Codes to the corressponding states\n",
    "\n",
    "usa_map_state_codes={'District of Columbia' : 'dc','Mississippi': 'MS', 'Oklahoma': 'OK', 'Delaware': 'DE', 'Minnesota': 'MN',\n",
    "    'Illinois': 'IL', 'Arkansas': 'AR', 'New Mexico': 'NM', 'Indiana': 'IN', 'Maryland': 'MD', 'Louisiana': 'LA', \n",
    "    'Idaho': 'ID', 'Wyoming': 'WY', 'Tennessee': 'TN', 'Arizona': 'AZ', \n",
    "    'Iowa': 'IA', 'Michigan': 'MI', 'Kansas': 'KS', 'Utah': 'UT', \n",
    "    'Virginia': 'VA', 'Oregon': 'OR', 'Connecticut': 'CT', 'Montana': 'MT', \n",
    "    'California': 'CA', 'Massachusetts': 'MA', 'West Virginia': 'WV', \n",
    "    'South Carolina': 'SC', 'New Hampshire': 'NH', 'Wisconsin': 'WI',\n",
    "    'Vermont': 'VT', 'Georgia': 'GA', 'North Dakota': 'ND', \n",
    "    'Pennsylvania': 'PA', 'Florida': 'FL', 'Alaska': 'AK', 'Kentucky': 'KY', \n",
    "    'Hawaii': 'HI', 'Nebraska': 'NE', 'Missouri': 'MO', 'Ohio': 'OH', \n",
    "    'Alabama': 'AL', 'Rhode Island': 'RI', 'South Dakota': 'SD', \n",
    "    'Colorado': 'CO', 'New Jersey': 'NJ', 'Washington': 'WA', \n",
    "    'North Carolina': 'NC', 'New York': 'NY', 'Texas': 'TX', \n",
    "    'Nevada': 'NV', 'Maine': 'ME'}"
   ]
  },
  {
   "cell_type": "code",
   "execution_count": null,
   "metadata": {},
   "outputs": [],
   "source": [
    "# Adding a Column to out Super Market Datasetfor the Corressponding States already Present in the Dataset\n",
    "data_frame['State-Code']=pd.DataFrame(data_frame['State'].apply(lambda x:usa_map_state_codes[x]))"
   ]
  },
  {
   "cell_type": "code",
   "execution_count": null,
   "metadata": {},
   "outputs": [],
   "source": [
    "data_frame  #new column State-Code is Added"
   ]
  },
  {
   "cell_type": "code",
   "execution_count": null,
   "metadata": {},
   "outputs": [],
   "source": [
    "#initiating the plotly notebook mode\n",
    "init_notebook_mode(connected=True)"
   ]
  },
  {
   "cell_type": "code",
   "execution_count": null,
   "metadata": {
    "scrolled": true
   },
   "outputs": [],
   "source": [
    "#plotly.graph_objects.Figure([data, layout, frames, skip_invalid])\n",
    "data_frame_map_sales=dict(\n",
    "    type = 'choropleth',#using chloropleth Maps\n",
    "    locations = data_frame['State-Code'],\n",
    "    locationmode = 'USA-states',\n",
    "    colorscale='Viridis',\n",
    "    z = data_frame['Sales'],\n",
    "    colorbar={'title':'Sales by State'}\n",
    ")\n",
    "layout=dict(geo={'scope':'usa'})\n",
    "usa_map=go.Figure([data_frame_map_sales],layout)\n",
    "iplot(usa_map)"
   ]
  },
  {
   "cell_type": "code",
   "execution_count": null,
   "metadata": {},
   "outputs": [],
   "source": [
    "#plotly.graph_objects.Figure([data, layout, frames, skip_invalid])\n",
    "data_frame_map_profit=dict(\n",
    "    type = 'choropleth',#using chloropleth Maps\n",
    "    locations = data_frame['State-Code'],\n",
    "    locationmode = 'USA-states',\n",
    "    colorscale='Viridis',\n",
    "    z = data_frame['Profit'],\n",
    "    colorbar={'title':'Profit by State'}\n",
    ")\n",
    "layout=dict(geo={'scope':'usa'})\n",
    "usa_map=go.Figure([data_frame_map_profit],layout)\n",
    "iplot(usa_map)"
   ]
  },
  {
   "cell_type": "code",
   "execution_count": null,
   "metadata": {},
   "outputs": [],
   "source": []
  }
 ],
 "metadata": {
  "kernelspec": {
   "display_name": "Python 3",
   "language": "python",
   "name": "python3"
  },
  "language_info": {
   "codemirror_mode": {
    "name": "ipython",
    "version": 3
   },
   "file_extension": ".py",
   "mimetype": "text/x-python",
   "name": "python",
   "nbconvert_exporter": "python",
   "pygments_lexer": "ipython3",
   "version": "3.8.5"
  }
 },
 "nbformat": 4,
 "nbformat_minor": 2
}
